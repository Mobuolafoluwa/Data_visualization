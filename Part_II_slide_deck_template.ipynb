{
 "cells": [
  {
   "cell_type": "markdown",
   "metadata": {
    "slideshow": {
     "slide_type": "slide"
    }
   },
   "source": [
    "# Part II - Duration of bike rides of the bike-sharing system in San Francisco Bay area\n",
    "## by Mobuolafoluwa Onayade"
   ]
  },
  {
   "cell_type": "markdown",
   "metadata": {
    "slideshow": {
     "slide_type": "slide"
    }
   },
   "source": [
    "\n",
    "\n",
    "\n",
    "\n",
    "## Investigation Overview\n",
    "\n",
    "In this investigation, I wanted to explore the factors that affect the duration of bike rides. The main focus was on age and gender of the rider as well time of day and time of week of the bike ride\n",
    "\n",
    "## Dataset Overview\n",
    "\n",
    "The dataset consisted of duration and attributes of 183,412 bike rides made in a bike-sharing system covering the greater San Francisco Bay area . The attributes included start and end stations, year of birth and gender of riders, as well as additional measurements such as user type and Bike share for all trip status. New variables such as time of day, weekday and age were created to better explore relationships "
   ]
  },
  {
   "cell_type": "code",
   "execution_count": 1,
   "metadata": {
    "slideshow": {
     "slide_type": "skip"
    }
   },
   "outputs": [],
   "source": [
    "# import all packages and set plots to be embedded inline\n",
    "import numpy as np\n",
    "import pandas as pd\n",
    "import matplotlib.pyplot as plt\n",
    "import seaborn as sb\n",
    "\n",
    "%matplotlib inline\n",
    "\n",
    "# suppress warnings from final output\n",
    "import warnings\n",
    "warnings.simplefilter(\"ignore\")"
   ]
  },
  {
   "cell_type": "code",
   "execution_count": 2,
   "metadata": {
    "slideshow": {
     "slide_type": "skip"
    }
   },
   "outputs": [],
   "source": [
    "# load in the dataset into a pandas dataframe\n",
    "data = pd.read_csv('201902-fordgobike-tripdata.csv')"
   ]
  },
  {
   "cell_type": "code",
   "execution_count": 3,
   "metadata": {},
   "outputs": [],
   "source": [
    "# Convert bike ride duration in seconds to minutes \n",
    "data['duration_mins'] = round((data.duration_sec)/60)"
   ]
  },
  {
   "cell_type": "code",
   "execution_count": 4,
   "metadata": {},
   "outputs": [],
   "source": [
    "# Convert start and end time to datetime format so as to be able to extract the time of day the ride was taken \n",
    "data['start_time'] = pd.to_datetime(data['start_time'])\n",
    "data['end_time'] = pd.to_datetime(data['end_time'])\n",
    "\n",
    "data['time']= data['start_time'].dt.hour\n",
    "b = [0,6,12,18,24]\n",
    "l = ['Late Night','Morning','Afternoon','Night']\n",
    "data['time_of_day'] = pd.cut(data['time'], bins=b, labels=l, include_lowest=True)\n",
    "\n",
    "def f(x):\n",
    "    if (x > 6) and (x <= 12 ):\n",
    "        return 'Morning'\n",
    "    elif (x > 12) and (x <= 18):\n",
    "        return'Afternoon'\n",
    "    elif (x > 18) and (x <= 24):\n",
    "        return'Night'\n",
    "    elif (x <= 6):\n",
    "        return'Late Night'\n",
    "    \n",
    "data['time_of_day'] = data['time'].apply(f)"
   ]
  },
  {
   "cell_type": "code",
   "execution_count": 5,
   "metadata": {},
   "outputs": [],
   "source": [
    "data = data.dropna(subset='member_birth_year')\n",
    "from datetime import date \n",
    "\n",
    "current_year = date.today().year\n",
    "\n",
    "data['Age'] = current_year - data['member_birth_year']\n",
    "\n",
    "# Group age into age groups to make it easier to look at the reationship\n",
    "conds = [\n",
    "    (data['Age'] >20) & (data['Age'] <= 40), \n",
    "    (data['Age'] > 40) & (data['Age'] <=60),\n",
    "    (data['Age'] > 60),\n",
    "]\n",
    "choices = ['20 - 40', '40 - 60', '>60']\n",
    "data['Age_Group'] = np.select(conds, choices)"
   ]
  },
  {
   "cell_type": "markdown",
   "metadata": {
    "slideshow": {
     "slide_type": "notes"
    }
   },
   "source": [
    "> Note that the above cells have been set as \"Skip\"-type slides. That means\n",
    "that when the notebook is rendered as http slides, those cells won't show up."
   ]
  },
  {
   "cell_type": "markdown",
   "metadata": {
    "slideshow": {
     "slide_type": "slide"
    }
   },
   "source": [
    "## Distribution of Duration of Bike Rides\n",
    "\n",
    "Duration of bike rides in the dataset take on a very large range of values, from about 1 minute at the lowest, to about 1424 at the highest. Plotted with a limit of 60 minutes the distribution is right skewed. There is a steady decline in the number of bike rides taken for more than 10 minutes  "
   ]
  },
  {
   "cell_type": "code",
   "execution_count": 6,
   "metadata": {},
   "outputs": [
    {
     "data": {
      "image/png": "[encoded data removed]",
      "text/plain": [
       "<Figure size 720x360 with 1 Axes>"
      ]
     },
     "metadata": {
      "needs_background": "light"
     },
     "output_type": "display_data"
    }
   ],
   "source": [
    "plt.figure(figsize=(10, 5))\n",
    "bin_edges = np.arange(0, data['duration_mins'].max()+10, 1)\n",
    "plt.hist(data=data, x='duration_mins', bins = bin_edges)\n",
    "plt.xlabel('Duration (mins)')\n",
    "plt.title('Distribution of Duration of Bike Rides')\n",
    "plt.xlim(0, 60);"
   ]
  },
  {
   "cell_type": "markdown",
   "metadata": {
    "slideshow": {
     "slide_type": "slide"
    }
   },
   "source": [
    "## Duration of bike rides vs Time of day\n",
    "\n",
    "Plotting the duration of bike rides and time of the day of the ride shows that there is a relationship between the time of the day a trip is taken and how long it lasts for. Bike rides taken during the day are most longer than those taken at night."
   ]
  },
  {
   "cell_type": "code",
   "execution_count": 7,
   "metadata": {
    "slideshow": {
     "slide_type": "subslide"
    }
   },
   "outputs": [
    {
     "data": {
      "image/png": "[encoded data removed]",
      "text/plain": [
       "<Figure size 720x360 with 1 Axes>"
      ]
     },
     "metadata": {
      "needs_background": "light"
     },
     "output_type": "display_data"
    }
   ],
   "source": [
    "plt.figure(figsize=(10, 5))\n",
    "sb.boxplot(data=data, x='time_of_day', y='duration_mins', order=('Morning','Afternoon', 'Night', 'Late Night'))\n",
    "plt.ylim(0, 60)\n",
    "plt.title('Duration of bike rides according to Time of day')\n",
    "plt.ylabel('Duration (mins)')\n",
    "plt.xlabel('Time of day')\n",
    "plt.show()"
   ]
  },
  {
   "cell_type": "markdown",
   "metadata": {
    "slideshow": {
     "slide_type": "slide"
    }
   },
   "source": [
    "## Bike ride duration (in mins) by age and gender\n",
    "Exploring the interactions between bike ride duration and age and gender. Average bike ride increases as age increases showing that older people ride longer. However, males ride for a shorter time showing that an older woman rides longer than the man\n"
   ]
  },
  {
   "cell_type": "code",
   "execution_count": 8,
   "metadata": {
    "slideshow": {
     "slide_type": "subslide"
    }
   },
   "outputs": [
    {
     "data": {
      "text/plain": [
       "Text(0.5, 1.0, 'Relationship between ride duration (in mins) and age group per gender')"
      ]
     },
     "execution_count": 8,
     "metadata": {},
     "output_type": "execute_result"
    },
    {
     "data": {
      "image/png": "[encoded data removed]",
      "text/plain": [
       "<Figure size 864x432 with 1 Axes>"
      ]
     },
     "metadata": {
      "needs_background": "light"
     },
     "output_type": "display_data"
    }
   ],
   "source": [
    "new_sample = data.sample(n=10000, random_state=42)\n",
    "# Remove outliers to better explore the interactions\n",
    "new_sample_without_outlier = new_sample[new_sample['duration_mins'] <= 90]\n",
    "\n",
    "fig, ax = plt.subplots(figsize = [12,6])\n",
    "sb.pointplot(data = new_sample_without_outlier, x = 'Age_Group', y = 'duration_mins', hue = 'member_gender',\n",
    "             palette = sb.color_palette('tab10'), linestyles = '', dodge = 0.4,\n",
    "            order=['20 - 40', '40 - 60', '>60'])\n",
    "plt.title(\"Relationship between ride duration (in mins) and age group per gender\")"
   ]
  },
  {
   "cell_type": "code",
   "execution_count": 9,
   "metadata": {
    "slideshow": {
     "slide_type": "skip"
    }
   },
   "outputs": [
    {
     "name": "stdout",
     "output_type": "stream",
     "text": [
      "[NbConvertApp] Converting notebook Part_II_slide_deck_template.ipynb to slides\n",
      "[NbConvertApp] Writing 635386 bytes to Part_II_slide_deck_template.slides.html\n",
      "[NbConvertApp] Redirecting reveal.js requests to https://cdnjs.cloudflare.com/ajax/libs/reveal.js/3.5.0\n",
      "Serving your slides at http://127.0.0.1:8000/Part_II_slide_deck_template.slides.html\n",
      "Use Control-C to stop this server\n",
      "^C\n",
      "\n",
      "Interrupted\n"
     ]
    }
   ],
   "source": [
    "!jupyter nbconvert Part_II_slide_deck_template.ipynb --to slides --post serve --no-input --no-prompt"
   ]
  },
  {
   "cell_type": "markdown",
   "metadata": {
    "slideshow": {
     "slide_type": "notes"
    }
   },
   "source": []
  }
 ],
 "metadata": {
  "celltoolbar": "Slideshow",
  "kernelspec": {
   "display_name": "Python 3 (ipykernel)",
   "language": "python",
   "name": "python3"
  },
  "language_info": {
   "codemirror_mode": {
    "name": "ipython",
    "version": 3
   },
   "file_extension": ".py",
   "mimetype": "text/x-python",
   "name": "python",
   "nbconvert_exporter": "python",
   "pygments_lexer": "ipython3",
   "version": "3.9.12"
  }
 },
 "nbformat": 4,
 "nbformat_minor": 4
}
